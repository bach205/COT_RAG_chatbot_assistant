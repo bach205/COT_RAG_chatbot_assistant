{
 "cells": [
  {
   "cell_type": "code",
   "execution_count": 3,
   "metadata": {},
   "outputs": [
    {
     "name": "stdout",
     "output_type": "stream",
     "text": [
      "Initialization 0\n",
      "Initialization converged. time lapse 3.72448s\t lower bound 3273.00011.\n"
     ]
    }
   ],
   "source": [
    "from sklearn.mixture import GaussianMixture\n",
    "import torch \n",
    "torch.manual_seed(42)\n",
    "a = torch.randn((1000,768))\n",
    "gm = GaussianMixture(n_components=10, random_state=42,verbose=2)\n",
    "b = gm.fit(a)"
   ]
  },
  {
   "cell_type": "code",
   "execution_count": 4,
   "metadata": {},
   "outputs": [
    {
     "data": {
      "text/plain": [
       "13905438.544569485"
      ]
     },
     "execution_count": 4,
     "metadata": {},
     "output_type": "execute_result"
    }
   ],
   "source": [
    "b.bic(a)"
   ]
  },
  {
   "cell_type": "code",
   "execution_count": 5,
   "metadata": {},
   "outputs": [
    {
     "data": {
      "text/plain": [
       "array([1, 7, 1, 9, 1, 9, 3, 3, 5, 5, 8, 6, 9, 1, 5, 3, 9, 9, 4, 3, 1, 9,\n",
       "       7, 7, 9, 3, 1, 6, 9, 7, 9, 1, 3, 9, 9, 7, 9, 9, 6, 9, 5, 3, 3, 1,\n",
       "       7, 7, 7, 8, 7, 5, 6, 2, 9, 6, 5, 1, 1, 1, 9, 3, 7, 1, 3, 9, 3, 9,\n",
       "       9, 7, 1, 5, 9, 6, 3, 1, 3, 9, 1, 1, 9, 5, 9, 9, 9, 5, 9, 9, 9, 7,\n",
       "       1, 8, 9, 6, 7, 6, 3, 5, 9, 9, 9, 2, 6, 8, 3, 9, 5, 1, 9, 9, 5, 3,\n",
       "       6, 1, 9, 5, 1, 3, 5, 3, 7, 5, 9, 8, 7, 7, 9, 7, 8, 3, 9, 8, 1, 1,\n",
       "       3, 9, 9, 7, 7, 7, 9, 9, 1, 2, 9, 7, 1, 7, 9, 3, 6, 1, 1, 5, 8, 6,\n",
       "       7, 2, 5, 9, 1, 2, 9, 3, 9, 1, 6, 9, 9, 6, 7, 8, 1, 2, 1, 9, 7, 2,\n",
       "       1, 9, 3, 9, 7, 1, 9, 4, 7, 9, 5, 0, 7, 7, 5, 2, 7, 9, 3, 9, 3, 7,\n",
       "       5, 9, 7, 9, 8, 3, 5, 1, 9, 1, 7, 3, 6, 2, 5, 5, 9, 9, 9, 1, 9, 1,\n",
       "       6, 1, 6, 9, 1, 6, 8, 9, 7, 7, 9, 7, 5, 3, 5, 9, 9, 9, 3, 7, 9, 6,\n",
       "       5, 1, 1, 9, 1, 8, 9, 9, 9, 9, 7, 8, 9, 3, 9, 7, 7, 9, 7, 1, 9, 9,\n",
       "       8, 9, 5, 1, 1, 9, 7, 1, 9, 9, 3, 5, 9, 1, 2, 1, 6, 7, 1, 7, 7, 7,\n",
       "       1, 6, 3, 9, 5, 3, 6, 2, 9, 7, 5, 9, 9, 5, 3, 3, 7, 7, 7, 6, 1, 9,\n",
       "       9, 6, 9, 9, 8, 9, 5, 7, 2, 1, 9, 6, 3, 3, 6, 7, 7, 7, 5, 3, 9, 6,\n",
       "       9, 7, 6, 7, 6, 9, 5, 9, 6, 1, 9, 3, 9, 9, 9, 7, 3, 7, 9, 9, 2, 6,\n",
       "       9, 3, 1, 3, 3, 6, 1, 4, 6, 7, 9, 5, 5, 7, 3, 2, 6, 9, 9, 7, 9, 8,\n",
       "       0, 7, 9, 7, 3, 7, 3, 9, 2, 9, 9, 6, 3, 2, 9, 6, 3, 3, 5, 2, 1, 9,\n",
       "       5, 1, 1, 2, 9, 9, 2, 9, 3, 9, 9, 7, 3, 9, 3, 5, 1, 3, 3, 1, 8, 9,\n",
       "       3, 1, 3, 9, 5, 9, 9, 6, 9, 9, 7, 6, 3, 2, 9, 3, 1, 5, 2, 1, 1, 9,\n",
       "       7, 5, 1, 1, 6, 9, 7, 9, 8, 6, 5, 9, 8, 7, 3, 9, 1, 1, 3, 9, 3, 8,\n",
       "       9, 5, 7, 3, 7, 9, 6, 3, 9, 1, 1, 6, 7, 9, 5, 3, 9, 7, 1, 7, 7, 2,\n",
       "       7, 9, 7, 1, 1, 3, 6, 5, 9, 1, 3, 9, 1, 7, 9, 7, 9, 3, 8, 7, 5, 9,\n",
       "       9, 3, 9, 5, 4, 6, 9, 1, 1, 7, 9, 3, 7, 1, 7, 9, 1, 9, 5, 1, 3, 8,\n",
       "       9, 7, 7, 3, 1, 0, 7, 6, 6, 7, 1, 9, 7, 3, 1, 9, 6, 3, 2, 6, 6, 1,\n",
       "       7, 9, 1, 7, 1, 9, 3, 9, 8, 1, 1, 9, 9, 7, 1, 7, 8, 1, 3, 9, 7, 7,\n",
       "       6, 7, 5, 8, 7, 7, 1, 8, 9, 1, 5, 7, 7, 9, 1, 6, 9, 6, 4, 3, 6, 6,\n",
       "       3, 6, 3, 3, 5, 6, 5, 6, 5, 7, 9, 9, 3, 7, 9, 9, 9, 9, 8, 1, 3, 8,\n",
       "       3, 9, 8, 1, 1, 6, 9, 3, 7, 6, 9, 9, 1, 7, 7, 1, 9, 9, 9, 7, 3, 3,\n",
       "       9, 7, 7, 3, 1, 6, 2, 1, 2, 9, 1, 9, 9, 9, 1, 3, 9, 7, 1, 1, 3, 7,\n",
       "       9, 7, 6, 9, 7, 7, 2, 8, 7, 1, 9, 9, 3, 6, 9, 7, 6, 1, 4, 1, 5, 9,\n",
       "       8, 6, 9, 9, 1, 7, 1, 2, 1, 9, 9, 3, 3, 7, 7, 2, 9, 3, 9, 7, 9, 9,\n",
       "       7, 9, 7, 1, 3, 3, 6, 9, 2, 2, 6, 3, 9, 6, 9, 9, 9, 3, 9, 9, 7, 3,\n",
       "       2, 2, 6, 7, 9, 2, 9, 2, 1, 2, 6, 7, 8, 8, 6, 1, 3, 9, 9, 1, 3, 6,\n",
       "       1, 7, 7, 6, 7, 2, 6, 7, 9, 5, 6, 6, 3, 7, 7, 3, 3, 3, 5, 1, 9, 1,\n",
       "       7, 2, 9, 9, 8, 3, 7, 3, 9, 1, 3, 1, 9, 7, 9, 9, 7, 2, 3, 2, 8, 7,\n",
       "       6, 6, 5, 8, 3, 7, 7, 3, 4, 9, 1, 1, 9, 9, 5, 3, 3, 9, 8, 9, 1, 7,\n",
       "       9, 9, 9, 9, 3, 6, 9, 9, 9, 1, 9, 9, 1, 9, 3, 9, 1, 7, 3, 2, 9, 1,\n",
       "       9, 9, 6, 9, 3, 9, 5, 1, 7, 9, 9, 9, 9, 1, 9, 7, 7, 7, 3, 6, 7, 2,\n",
       "       9, 6, 7, 9, 8, 6, 6, 7, 9, 7, 3, 1, 5, 6, 5, 1, 9, 8, 5, 5, 9, 3,\n",
       "       7, 3, 1, 1, 5, 9, 6, 7, 7, 8, 9, 3, 1, 1, 1, 9, 9, 4, 1, 9, 9, 5,\n",
       "       7, 3, 5, 6, 5, 1, 3, 7, 1, 8, 6, 7, 9, 2, 1, 1, 1, 8, 3, 5, 9, 7,\n",
       "       5, 7, 7, 1, 1, 6, 9, 9, 9, 3, 9, 9, 9, 3, 2, 8, 7, 3, 9, 3, 7, 1,\n",
       "       9, 9, 2, 7, 1, 1, 7, 5, 9, 7, 9, 1, 3, 9, 1, 5, 2, 9, 8, 9, 6, 5,\n",
       "       6, 7, 5, 9, 9, 9, 9, 9, 1, 3, 1, 1, 7, 6, 5, 5, 2, 9, 9, 9, 9, 9,\n",
       "       7, 3, 9, 3, 3, 9, 9, 2, 6, 7])"
      ]
     },
     "execution_count": 5,
     "metadata": {},
     "output_type": "execute_result"
    }
   ],
   "source": [
    "b.predict(a)"
   ]
  },
  {
   "cell_type": "code",
   "execution_count": 13,
   "metadata": {},
   "outputs": [
    {
     "data": {
      "text/plain": [
       "array([0., 0., 0., 0., 0., 0., 0., 0., 0., 1.])"
      ]
     },
     "execution_count": 13,
     "metadata": {},
     "output_type": "execute_result"
    }
   ],
   "source": [
    "b.predict_proba(a)[3]"
   ]
  },
  {
   "cell_type": "code",
   "execution_count": 19,
   "metadata": {},
   "outputs": [],
   "source": [
    "probs = torch.tensor([\n",
    "    [0.1, 0.8, 0.05],\n",
    "    [0.3, 0.6, 0.9],\n",
    "    [0.05, 0.2, 0.1]])\n"
   ]
  },
  {
   "cell_type": "code",
   "execution_count": 29,
   "metadata": {},
   "outputs": [
    {
     "data": {
      "text/plain": [
       "(tensor([1]),)"
      ]
     },
     "execution_count": 29,
     "metadata": {},
     "output_type": "execute_result"
    }
   ],
   "source": [
    "torch.where(probs[0]>0.5)"
   ]
  },
  {
   "cell_type": "code",
   "execution_count": 32,
   "metadata": {},
   "outputs": [
    {
     "data": {
      "text/plain": [
       "tensor([[ 1.9269,  1.4873,  0.9007,  ..., -1.6034, -0.4298,  0.5762],\n",
       "        [ 0.3444, -3.1016, -1.4587,  ...,  0.2200,  0.3249,  1.3190]])"
      ]
     },
     "execution_count": 32,
     "metadata": {},
     "output_type": "execute_result"
    }
   ],
   "source": [
    "a[[0,1]]"
   ]
  },
  {
   "cell_type": "code",
   "execution_count": 49,
   "metadata": {},
   "outputs": [
    {
     "data": {
      "text/plain": [
       "tensor([0, 0, 0, 0, 0, 0, 0, 0, 0, 0, 0, 0, 0, 0, 0, 0, 0, 0, 0, 0, 0, 0, 0, 0,\n",
       "        0, 0, 0, 0, 0, 0, 0, 0, 0, 0, 0, 0, 0, 0, 0, 0, 0, 0, 0, 0, 0, 0, 0, 0,\n",
       "        0, 0])"
      ]
     },
     "execution_count": 49,
     "metadata": {},
     "output_type": "execute_result"
    }
   ],
   "source": [
    "torch.where(a == a)[0][600:650]"
   ]
  },
  {
   "cell_type": "code",
   "execution_count": 53,
   "metadata": {},
   "outputs": [
    {
     "data": {
      "text/plain": [
       "tensor([[[[ 1.9269,  1.4873,  0.9007,  ..., -1.6034, -0.4298,  0.5762]]],\n",
       "\n",
       "\n",
       "        [[[ 0.3444, -3.1016, -1.4587,  ...,  0.2200,  0.3249,  1.3190]]],\n",
       "\n",
       "\n",
       "        [[[-0.8497, -0.6987, -0.2052,  ..., -0.0298,  1.2715,  1.0849]]],\n",
       "\n",
       "\n",
       "        ...,\n",
       "\n",
       "\n",
       "        [[[-0.5971, -1.0348,  0.4210,  ...,  0.1757,  0.2550,  0.8070]]],\n",
       "\n",
       "\n",
       "        [[[-0.3078,  1.3164,  0.7719,  ..., -0.6264, -1.3772, -1.6635]]],\n",
       "\n",
       "\n",
       "        [[[-0.4334,  2.2704,  2.0012,  ..., -0.7991,  0.6081, -0.8028]]]])"
      ]
     },
     "execution_count": 53,
     "metadata": {},
     "output_type": "execute_result"
    }
   ],
   "source": [
    "a[:,None][:10][:,None]"
   ]
  },
  {
   "cell_type": "code",
   "execution_count": 125,
   "metadata": {},
   "outputs": [],
   "source": [
    "c = torch.tensor([[3,2,3],[3,2,3],[3,1,3]])\n",
    "d = torch.tensor([[[3,1,3]],[[3,1,3]]])"
   ]
  },
  {
   "cell_type": "code",
   "execution_count": 112,
   "metadata": {},
   "outputs": [
    {
     "data": {
      "text/plain": [
       "torch.Size([2, 3, 3])"
      ]
     },
     "execution_count": 112,
     "metadata": {},
     "output_type": "execute_result"
    }
   ],
   "source": [
    "(c==d).shape"
   ]
  },
  {
   "cell_type": "code",
   "execution_count": 102,
   "metadata": {},
   "outputs": [
    {
     "data": {
      "text/plain": [
       "torch.Size([2, 1, 3])"
      ]
     },
     "execution_count": 102,
     "metadata": {},
     "output_type": "execute_result"
    }
   ],
   "source": [
    "d.shape"
   ]
  },
  {
   "cell_type": "code",
   "execution_count": 109,
   "metadata": {},
   "outputs": [
    {
     "data": {
      "text/plain": [
       "torch.Size([3, 3])"
      ]
     },
     "execution_count": 109,
     "metadata": {},
     "output_type": "execute_result"
    }
   ],
   "source": [
    "c.shape"
   ]
  },
  {
   "cell_type": "code",
   "execution_count": 126,
   "metadata": {},
   "outputs": [
    {
     "data": {
      "text/plain": [
       "(tensor([0, 1]), tensor([2, 2]))"
      ]
     },
     "execution_count": 126,
     "metadata": {},
     "output_type": "execute_result"
    }
   ],
   "source": [
    "torch.where((d==c).all(-1))"
   ]
  },
  {
   "cell_type": "code",
   "execution_count": 127,
   "metadata": {},
   "outputs": [
    {
     "data": {
      "text/plain": [
       "tensor([[3, 1, 3]])"
      ]
     },
     "execution_count": 127,
     "metadata": {},
     "output_type": "execute_result"
    }
   ],
   "source": [
    "d[0]"
   ]
  },
  {
   "cell_type": "code",
   "execution_count": 128,
   "metadata": {},
   "outputs": [
    {
     "ename": "ModuleNotFoundError",
     "evalue": "No module named 'umap'",
     "output_type": "error",
     "traceback": [
      "\u001b[0;31m---------------------------------------------------------------------------\u001b[0m",
      "\u001b[0;31mModuleNotFoundError\u001b[0m                       Traceback (most recent call last)",
      "Cell \u001b[0;32mIn[128], line 1\u001b[0m\n\u001b[0;32m----> 1\u001b[0m \u001b[38;5;28;01mimport\u001b[39;00m\u001b[38;5;250m \u001b[39m\u001b[38;5;21;01mumap\u001b[39;00m\n",
      "\u001b[0;31mModuleNotFoundError\u001b[0m: No module named 'umap'"
     ]
    }
   ],
   "source": [
    "import umap"
   ]
  },
  {
   "cell_type": "code",
   "execution_count": null,
   "metadata": {},
   "outputs": [],
   "source": []
  }
 ],
 "metadata": {
  "kernelspec": {
   "display_name": "rag",
   "language": "python",
   "name": "python3"
  },
  "language_info": {
   "codemirror_mode": {
    "name": "ipython",
    "version": 3
   },
   "file_extension": ".py",
   "mimetype": "text/x-python",
   "name": "python",
   "nbconvert_exporter": "python",
   "pygments_lexer": "ipython3",
   "version": "3.10.14"
  }
 },
 "nbformat": 4,
 "nbformat_minor": 2
}
